{
  "nbformat": 4,
  "nbformat_minor": 0,
  "metadata": {
    "colab": {
      "provenance": []
    },
    "kernelspec": {
      "name": "python3",
      "display_name": "Python 3"
    },
    "language_info": {
      "name": "python"
    }
  },
  "cells": [
    {
      "cell_type": "markdown",
      "source": [
        "##Install home-made packages and pytest"
      ],
      "metadata": {
        "id": "pqreNH3DYaIL"
      }
    },
    {
      "cell_type": "markdown",
      "source": [
        "### Install home-made packages"
      ],
      "metadata": {
        "id": "-qShO-nQcgKP"
      }
    },
    {
      "cell_type": "code",
      "source": [
        "!python -m pip install -e ."
      ],
      "metadata": {
        "colab": {
          "base_uri": "https://localhost:8080/"
        },
        "id": "Habpi_oLaEFR",
        "outputId": "3eb53814-85cb-42a9-a1ca-a13d17f49f80"
      },
      "execution_count": 17,
      "outputs": [
        {
          "output_type": "stream",
          "name": "stdout",
          "text": [
            "Obtaining file:///content\n",
            "  Installing build dependencies ... \u001b[?25l\u001b[?25hdone\n",
            "  Checking if build backend supports build_editable ... \u001b[?25l\u001b[?25hdone\n",
            "  Getting requirements to build editable ... \u001b[?25l\u001b[?25hdone\n",
            "  Installing backend dependencies ... \u001b[?25l\u001b[?25hdone\n",
            "  Preparing editable metadata (pyproject.toml) ... \u001b[?25l\u001b[?25hdone\n",
            "Requirement already satisfied: pytest-timeout in /usr/local/lib/python3.10/dist-packages (from chapter-5==0.1) (2.3.1)\n",
            "Requirement already satisfied: pytest>=7.0.0 in /usr/local/lib/python3.10/dist-packages (from pytest-timeout->chapter-5==0.1) (8.3.4)\n",
            "Requirement already satisfied: exceptiongroup>=1.0.0rc8 in /usr/local/lib/python3.10/dist-packages (from pytest>=7.0.0->pytest-timeout->chapter-5==0.1) (1.2.2)\n",
            "Requirement already satisfied: iniconfig in /usr/local/lib/python3.10/dist-packages (from pytest>=7.0.0->pytest-timeout->chapter-5==0.1) (2.0.0)\n",
            "Requirement already satisfied: packaging in /usr/local/lib/python3.10/dist-packages (from pytest>=7.0.0->pytest-timeout->chapter-5==0.1) (24.2)\n",
            "Requirement already satisfied: pluggy<2,>=1.5 in /usr/local/lib/python3.10/dist-packages (from pytest>=7.0.0->pytest-timeout->chapter-5==0.1) (1.5.0)\n",
            "Requirement already satisfied: tomli>=1 in /usr/local/lib/python3.10/dist-packages (from pytest>=7.0.0->pytest-timeout->chapter-5==0.1) (2.2.1)\n",
            "Building wheels for collected packages: chapter-5\n",
            "  Building editable for chapter-5 (pyproject.toml) ... \u001b[?25l\u001b[?25hdone\n",
            "  Created wheel for chapter-5: filename=chapter_5-0.1-py2.py3-none-any.whl size=910 sha256=db0575c3ed3cfc5c8d297b90e839142cc8dc222af6716ca40f62c59d5bc41b66\n",
            "  Stored in directory: /tmp/pip-ephem-wheel-cache-t5tcr2dc/wheels/e8/d3/96/0e8c7135806cbda4db28d12fc8d710e5e4f66ced1411163e67\n",
            "Successfully built chapter-5\n",
            "Installing collected packages: chapter-5\n",
            "  Attempting uninstall: chapter-5\n",
            "    Found existing installation: chapter-5 0.1\n",
            "    Uninstalling chapter-5-0.1:\n",
            "      Successfully uninstalled chapter-5-0.1\n",
            "Successfully installed chapter-5-0.1\n"
          ]
        }
      ]
    },
    {
      "cell_type": "markdown",
      "source": [
        "### Install pytest"
      ],
      "metadata": {
        "id": "4EIssX7RcmWP"
      }
    },
    {
      "cell_type": "code",
      "source": [
        "!python -m pip install pytest"
      ],
      "metadata": {
        "colab": {
          "base_uri": "https://localhost:8080/"
        },
        "id": "dvV8c_wRb8AE",
        "outputId": "c3c29287-0510-4583-d4da-41f4f8eb934e"
      },
      "execution_count": 18,
      "outputs": [
        {
          "output_type": "stream",
          "name": "stdout",
          "text": [
            "Requirement already satisfied: pytest in /usr/local/lib/python3.10/dist-packages (8.3.4)\n",
            "Requirement already satisfied: exceptiongroup>=1.0.0rc8 in /usr/local/lib/python3.10/dist-packages (from pytest) (1.2.2)\n",
            "Requirement already satisfied: iniconfig in /usr/local/lib/python3.10/dist-packages (from pytest) (2.0.0)\n",
            "Requirement already satisfied: packaging in /usr/local/lib/python3.10/dist-packages (from pytest) (24.2)\n",
            "Requirement already satisfied: pluggy<2,>=1.5 in /usr/local/lib/python3.10/dist-packages (from pytest) (1.5.0)\n",
            "Requirement already satisfied: tomli>=1 in /usr/local/lib/python3.10/dist-packages (from pytest) (2.2.1)\n"
          ]
        }
      ]
    },
    {
      "cell_type": "markdown",
      "source": [
        "### Run tests"
      ],
      "metadata": {
        "id": "rnMp9OXecpEc"
      }
    },
    {
      "cell_type": "code",
      "source": [
        "!python -m pytest tests"
      ],
      "metadata": {
        "colab": {
          "base_uri": "https://localhost:8080/"
        },
        "id": "oxbQ3ud8cCYS",
        "outputId": "e67c6d3e-9066-4325-85a5-9ed76c6718fc"
      },
      "execution_count": 19,
      "outputs": [
        {
          "output_type": "stream",
          "name": "stdout",
          "text": [
            "\u001b[1m======================================= test session starts ========================================\u001b[0m\n",
            "platform linux -- Python 3.10.12, pytest-8.3.4, pluggy-1.5.0\n",
            "rootdir: /content\n",
            "configfile: setup.cfg\n",
            "plugins: timeout-2.3.1, typeguard-4.4.1, anyio-3.7.1\n",
            "\u001b[1mcollecting ... \u001b[0m\u001b[1m\rcollected 50 items                                                                                 \u001b[0m\n",
            "\n",
            "tests/test_exercise_5_4.py \u001b[32m.\u001b[0m\u001b[32m.\u001b[0m\u001b[32m.\u001b[0m\u001b[32m.\u001b[0m\u001b[32m.\u001b[0m\u001b[32m.\u001b[0m\u001b[32m.\u001b[0m\u001b[32m.\u001b[0m\u001b[32m.\u001b[0m\u001b[32m                                                         [ 18%]\u001b[0m\n",
            "tests/test_exercise_5_5.py \u001b[32m.\u001b[0m\u001b[32m.\u001b[0m\u001b[32m.\u001b[0m\u001b[32m.\u001b[0m\u001b[32m.\u001b[0m\u001b[32m.\u001b[0m\u001b[32m.\u001b[0m\u001b[32m.\u001b[0m\u001b[32m.\u001b[0m\u001b[32m.\u001b[0m\u001b[32m.\u001b[0m\u001b[32m.\u001b[0m\u001b[32m.\u001b[0m\u001b[32m.\u001b[0m\u001b[32m.\u001b[0m\u001b[32m.\u001b[0m\u001b[32m.\u001b[0m\u001b[32m.\u001b[0m\u001b[32m.\u001b[0m\u001b[32m.\u001b[0m\u001b[32m.\u001b[0m\u001b[32m                                             [ 60%]\u001b[0m\n",
            "tests/test_exercise_5_6.py \u001b[32m.\u001b[0m\u001b[32m.\u001b[0m\u001b[32m.\u001b[0m\u001b[32m.\u001b[0m\u001b[32m.\u001b[0m\u001b[32m.\u001b[0m\u001b[32m.\u001b[0m\u001b[32m.\u001b[0m\u001b[32m.\u001b[0m\u001b[32m.\u001b[0m\u001b[32m.\u001b[0m\u001b[32m.\u001b[0m\u001b[32m.\u001b[0m\u001b[32m.\u001b[0m\u001b[32m.\u001b[0m\u001b[32m.\u001b[0m\u001b[32m.\u001b[0m\u001b[32m.\u001b[0m\u001b[32m.\u001b[0m\u001b[32m.\u001b[0m\u001b[32m                                              [100%]\u001b[0m\n",
            "\n",
            "\u001b[32m======================================== \u001b[32m\u001b[1m50 passed\u001b[0m\u001b[32m in 0.23s\u001b[0m\u001b[32m ========================================\u001b[0m\n"
          ]
        }
      ]
    },
    {
      "cell_type": "markdown",
      "source": [
        "## Code"
      ],
      "metadata": {
        "id": "KURD3LCqc7Dv"
      }
    },
    {
      "cell_type": "markdown",
      "source": [
        "##Deque"
      ],
      "metadata": {
        "id": "4AIsgyqoF7dq"
      }
    },
    {
      "cell_type": "code",
      "source": [
        "\"\"\"Contains the class Deque for Ex 5 of OOP4Maths.\"\"\"\n",
        "import numpy as np # noqa F401\n",
        "\n",
        "\n",
        "class Deque:\n",
        "    \"\"\"The Deque class represents a deque ADT.\"\"\"\n",
        "\n",
        "    def __init__(self, n, next=None):\n",
        "        \"\"\"Class constructor method.\"\"\"\n",
        "        self.list = [None] * n\n",
        "        self.length = 0\n",
        "        self.next = next\n",
        "\n",
        "    def append(self, x):\n",
        "        \"\"\"Return a deque with x appended to the right.\"\"\"\n",
        "        self.list[self.length] = x\n",
        "        self.length += 1\n",
        "        return self.list\n",
        "\n",
        "    def appendleft(self, x):\n",
        "        \"\"\"Return a deque with x appended to the left.\"\"\"\n",
        "        copied_list = self.list[:self.length]\n",
        "        self.list[0] = x\n",
        "        self.list[1:self.length + 1] = copied_list\n",
        "        self.length += 1\n",
        "        return self.list\n",
        "\n",
        "    def pop(self):\n",
        "        \"\"\"Remove the value from the right of the deque.\"\"\"\n",
        "        x = self.list[self.length - 1]\n",
        "        self.list[self.length - 1] = None\n",
        "        self.length -= 1\n",
        "        return x\n",
        "\n",
        "    def popleft(self):\n",
        "        \"\"\"Remove the value from the left of the deque.\"\"\"\n",
        "        copied_list = self.list[1: self.length]\n",
        "        x = self.list[0]\n",
        "        self.length -= 1\n",
        "        self.list[0: self.length] = copied_list\n",
        "        self.list[self.length] = None\n",
        "        return x\n",
        "\n",
        "    def peek(self):\n",
        "        \"\"\"Return the value at the top of the deque.\"\"\"\n",
        "        if self.length == 0:\n",
        "            return 'Exception: deque is empty'\n",
        "        return self.list[self.length - 1]\n",
        "\n",
        "    def peekleft(self):\n",
        "        \"\"\"Return the value at the top of the stack.\"\"\"\n",
        "        return self.list[0]\n",
        "\n",
        "    def __len__(self):\n",
        "        \"\"\"Return the length of the deque.\"\"\"\n",
        "        return self.length\n",
        "\n",
        "    def __iter__(self):\n",
        "        return DequeIterator(self)\n",
        "\n",
        "\n",
        "class DequeIterator:\n",
        "    \"\"\"Concrete implementation of the iterator protocol.\"\"\"\n",
        "\n",
        "    def __init__(self, deque):\n",
        "        self.deque = deque\n",
        "        self.count = 0\n",
        "\n",
        "    def __iter__(self):\n",
        "        return self\n",
        "\n",
        "    def __next__(self):\n",
        "        if self.count < self.deque.length:\n",
        "            returned_value = self.deque.list[self.count]\n",
        "            self.count += 1\n",
        "            return returned_value\n",
        "        else:\n",
        "            raise StopIteration"
      ],
      "metadata": {
        "id": "qg_WUiomF6yH"
      },
      "execution_count": null,
      "outputs": []
    },
    {
      "cell_type": "code",
      "source": [
        "class StaticList(list):\n",
        "    \"\"\"A list object whose length cannot be changed once it is created.\"\"\"\n",
        "\n",
        "    def append(self, object, /):\n",
        "        raise TypeError(\n",
        "            \"The list underpinning your Deque should be fixed length. \"\n",
        "            \"Calling the append method is not allowed.\"\n",
        "        )\n",
        "\n",
        "    def insert(self, index, object, /):\n",
        "        raise TypeError(\n",
        "            \"The list underpinning your Deque should be fixed length. \"\n",
        "            \"Calling the insert method is not allowed.\"\n",
        "        )\n",
        "\n",
        "    def pop(self):\n",
        "        raise TypeError(\n",
        "            \"The list underpinning your Deque should be fixed length. \"\n",
        "            \"Calling the pop method is not allowed.\"\n",
        "        )\n",
        "\n",
        "    def extend(self, iterable, /):\n",
        "        raise TypeError(\n",
        "            \"The list underpinning your Deque should be fixed length. \"\n",
        "            \"Calling the extend method is not allowed.\"\n",
        "        )\n",
        "\n",
        "    def remove(self, value, /):\n",
        "        raise TypeError(\n",
        "            \"The list underpinning your Deque should be fixed length. \"\n",
        "            \"Calling the remove method is not allowed.\"\n",
        "        )\n"
      ],
      "metadata": {
        "id": "CR0DqcCCIqAq"
      },
      "execution_count": null,
      "outputs": []
    },
    {
      "cell_type": "code",
      "source": [
        "def monkey_patch(deque):\n",
        "    \"\"\"Patch a Deque so that its underling list is of fixed length.\"\"\"\n",
        "\n",
        "    buffer = [a for a in dir(deque) if type(getattr(deque, a)) is list]\n",
        "    if not buffer:\n",
        "        raise ValueError(\"Deque has no attribute of type list.\")\n",
        "\n",
        "    for a in buffer:\n",
        "        setattr(deque, a, StaticList(getattr(deque, a)))"
      ],
      "metadata": {
        "id": "j0LUjIVFIgs7"
      },
      "execution_count": null,
      "outputs": []
    },
    {
      "cell_type": "code",
      "source": [
        "def base_data():\n",
        "    Q = Deque(5)\n",
        "    monkey_patch(Q)\n",
        "    Q.append(5)\n",
        "    Q.append(10)\n",
        "    Q.append(15)\n",
        "    Q.append(20)\n",
        "    Q.append(25)\n",
        "    Q.popleft()\n",
        "    Q.popleft()\n",
        "    Q.append(35)\n",
        "    Q.append(40)\n",
        "\n",
        "    T = Deque(4)\n",
        "    monkey_patch(T)\n",
        "    T.append('n')\n",
        "    T.append('n+1')\n",
        "    T.appendleft('n+2')\n",
        "    T.appendleft('n+3')\n",
        "    T.pop()\n",
        "    T.append('n+4')\n",
        "    return Q, T"
      ],
      "metadata": {
        "id": "drjJYTNNe2cl"
      },
      "execution_count": null,
      "outputs": []
    },
    {
      "cell_type": "code",
      "source": [
        "Q, T = base_data()"
      ],
      "metadata": {
        "id": "QSvy_ZyefWWG"
      },
      "execution_count": null,
      "outputs": []
    },
    {
      "cell_type": "code",
      "source": [
        "len(Q) == 5"
      ],
      "metadata": {
        "colab": {
          "base_uri": "https://localhost:8080/"
        },
        "id": "Yt9VAQkSe6N7",
        "outputId": "adb8faaa-9ff8-4100-f97e-3577f27ac949"
      },
      "execution_count": null,
      "outputs": [
        {
          "output_type": "execute_result",
          "data": {
            "text/plain": [
              "True"
            ]
          },
          "metadata": {},
          "execution_count": 429
        }
      ]
    },
    {
      "cell_type": "code",
      "source": [
        "np.array_equal([q for q in Q], [15, 20, 25, 35, 40])"
      ],
      "metadata": {
        "colab": {
          "base_uri": "https://localhost:8080/"
        },
        "id": "I1c6_Y8XfsjE",
        "outputId": "e2da1b22-2d13-446c-e8e4-d025c872ed69"
      },
      "execution_count": null,
      "outputs": [
        {
          "output_type": "execute_result",
          "data": {
            "text/plain": [
              "True"
            ]
          },
          "metadata": {},
          "execution_count": 432
        }
      ]
    },
    {
      "cell_type": "code",
      "source": [
        "Q2, T2 = base_data()"
      ],
      "metadata": {
        "id": "rocunQVnyABf"
      },
      "execution_count": null,
      "outputs": []
    },
    {
      "cell_type": "code",
      "source": [
        "[q for q in Q2]"
      ],
      "metadata": {
        "colab": {
          "base_uri": "https://localhost:8080/"
        },
        "id": "YTeA6lb_e_bm",
        "outputId": "726ffbe4-607e-44f9-f168-a1ea6f459801"
      },
      "execution_count": null,
      "outputs": [
        {
          "output_type": "execute_result",
          "data": {
            "text/plain": [
              "[15, 20, 25, 35, 40]"
            ]
          },
          "metadata": {},
          "execution_count": 436
        }
      ]
    },
    {
      "cell_type": "code",
      "source": [
        "Q = Deque(5)\n",
        "monkey_patch(Q)\n",
        "Q.append(5)\n",
        "Q.append(10)\n",
        "Q.append(15)\n",
        "Q.append(20)\n",
        "Q.append(25)\n",
        "Q.popleft()\n",
        "Q.popleft()\n",
        "Q.append(35)\n",
        "Q.append(40)\n",
        "\n",
        "T = Deque(4)\n",
        "monkey_patch(T)\n",
        "T.append('n')\n",
        "T.append('n+1')\n",
        "T.appendleft('n+2')\n",
        "T.appendleft('n+3')\n",
        "T.pop()\n",
        "T.append('n+4')\n",
        "\n",
        "\n",
        "len(Q) == 5"
      ],
      "metadata": {
        "colab": {
          "base_uri": "https://localhost:8080/"
        },
        "id": "SItyugKARv-F",
        "outputId": "635a434e-12e9-402a-8a75-2a2740065785"
      },
      "execution_count": null,
      "outputs": [
        {
          "output_type": "execute_result",
          "data": {
            "text/plain": [
              "True"
            ]
          },
          "metadata": {},
          "execution_count": 67
        }
      ]
    },
    {
      "cell_type": "code",
      "source": [
        "def test_len_empty():\n",
        "    Q = Deque(5)\n",
        "    monkey_patch(Q)\n",
        "    return not Q\n",
        "\n",
        "test_len_empty()"
      ],
      "metadata": {
        "colab": {
          "base_uri": "https://localhost:8080/"
        },
        "id": "zY1kH4g4RhOE",
        "outputId": "4ea513b0-6b26-4b48-b2c6-894f605dfa83"
      },
      "execution_count": null,
      "outputs": [
        {
          "output_type": "execute_result",
          "data": {
            "text/plain": [
              "True"
            ]
          },
          "metadata": {},
          "execution_count": 64
        }
      ]
    },
    {
      "cell_type": "code",
      "source": [
        "def test_len(items, length):\n",
        "    Q = Deque(10)\n",
        "    monkey_patch(Q)\n",
        "    for item in items:\n",
        "        Q.append(item)\n",
        "    return len(Q) == length"
      ],
      "metadata": {
        "id": "F1OuZLfbPeMF"
      },
      "execution_count": null,
      "outputs": []
    },
    {
      "cell_type": "code",
      "source": [
        "test_len([1, 2, 'a', 'abc'], 4)"
      ],
      "metadata": {
        "colab": {
          "base_uri": "https://localhost:8080/"
        },
        "id": "iu1KMJLoPmVP",
        "outputId": "d5eb32a7-bc79-4a35-c80d-b2e46ea244f2"
      },
      "execution_count": null,
      "outputs": [
        {
          "output_type": "execute_result",
          "data": {
            "text/plain": [
              "True"
            ]
          },
          "metadata": {},
          "execution_count": 56
        }
      ]
    },
    {
      "cell_type": "code",
      "source": [
        "test_len([2], 1)"
      ],
      "metadata": {
        "colab": {
          "base_uri": "https://localhost:8080/"
        },
        "id": "HQFh5qrUPvQg",
        "outputId": "e54c5990-6b3b-4d80-9d1e-035365364baa"
      },
      "execution_count": null,
      "outputs": [
        {
          "output_type": "execute_result",
          "data": {
            "text/plain": [
              "True"
            ]
          },
          "metadata": {},
          "execution_count": 57
        }
      ]
    },
    {
      "cell_type": "code",
      "source": [
        "test_len([[1, 2, 3], 1, 2], 3)"
      ],
      "metadata": {
        "colab": {
          "base_uri": "https://localhost:8080/"
        },
        "id": "qegv-2AQP6yx",
        "outputId": "22a3dd77-b0c1-4e75-dedc-6cf5f7d7e7d7"
      },
      "execution_count": null,
      "outputs": [
        {
          "output_type": "execute_result",
          "data": {
            "text/plain": [
              "True"
            ]
          },
          "metadata": {},
          "execution_count": 58
        }
      ]
    },
    {
      "cell_type": "code",
      "source": [
        "def test_popleft():\n",
        "    Q = Deque(3)\n",
        "    monkey_patch(Q)\n",
        "    Q.append(2)\n",
        "    Q.append(4)\n",
        "    Q.append(6)\n",
        "    return Q.popleft() == 2\n",
        "\n",
        "test_popleft()"
      ],
      "metadata": {
        "colab": {
          "base_uri": "https://localhost:8080/"
        },
        "id": "10qIA7c_OAMj",
        "outputId": "bd59839a-6424-4884-df2c-84b660f399e4"
      },
      "execution_count": null,
      "outputs": [
        {
          "output_type": "execute_result",
          "data": {
            "text/plain": [
              "True"
            ]
          },
          "metadata": {},
          "execution_count": 59
        }
      ]
    },
    {
      "cell_type": "code",
      "source": [
        "def test_appendleft():\n",
        "    Q = Deque(3)\n",
        "    monkey_patch(Q)\n",
        "    Q.append(2)\n",
        "    Q.append(4)\n",
        "    Q.appendleft(0)\n",
        "    return Q.peekleft() == 0\n",
        "\n",
        "test_appendleft()"
      ],
      "metadata": {
        "colab": {
          "base_uri": "https://localhost:8080/"
        },
        "id": "gLNqB5a8N2_H",
        "outputId": "a831d710-5f65-47e3-d059-b0faf9dbdc07"
      },
      "execution_count": null,
      "outputs": [
        {
          "output_type": "execute_result",
          "data": {
            "text/plain": [
              "True"
            ]
          },
          "metadata": {},
          "execution_count": 60
        }
      ]
    },
    {
      "cell_type": "code",
      "source": [
        "def test_peekleft():\n",
        "    Q = Deque(2)\n",
        "    monkey_patch(Q)\n",
        "    Q.append(1)\n",
        "    Q.append(2)\n",
        "    return Q.peekleft() == 1\n",
        "\n",
        "test_peekleft()"
      ],
      "metadata": {
        "colab": {
          "base_uri": "https://localhost:8080/"
        },
        "id": "RPU0CAOqNo4s",
        "outputId": "7750bbef-1596-4e31-dc2e-4badb8a9e468"
      },
      "execution_count": null,
      "outputs": [
        {
          "output_type": "execute_result",
          "data": {
            "text/plain": [
              "True"
            ]
          },
          "metadata": {},
          "execution_count": 61
        }
      ]
    },
    {
      "cell_type": "code",
      "source": [
        "def test_peek():\n",
        "    Q = Deque(2)\n",
        "    monkey_patch(Q)\n",
        "    Q.append(1)\n",
        "    print(f'Q.list: {Q.list}')\n",
        "    Q.append(2)\n",
        "    print(f'Q.list: {Q.list}')\n",
        "    print(f'len(Q): {len(Q)}')\n",
        "    return Q.peek() == 2\n",
        "\n",
        "test_peek()"
      ],
      "metadata": {
        "colab": {
          "base_uri": "https://localhost:8080/"
        },
        "id": "qVEsidMgJjTE",
        "outputId": "de7fddfc-b475-4f83-b1b2-92d4b982fb56"
      },
      "execution_count": null,
      "outputs": [
        {
          "output_type": "stream",
          "name": "stdout",
          "text": [
            "Q.list: [1, None]\n",
            "Q.list: [1, 2]\n",
            "len(Q): 2\n"
          ]
        },
        {
          "output_type": "execute_result",
          "data": {
            "text/plain": [
              "True"
            ]
          },
          "metadata": {},
          "execution_count": 62
        }
      ]
    },
    {
      "cell_type": "code",
      "source": [
        "def test_append_and_pop():\n",
        "    Q = Deque(1)\n",
        "    monkey_patch(Q)\n",
        "    Q.append(1)\n",
        "    return Q.pop() == 1\n",
        "\n",
        "test_append_and_pop()"
      ],
      "metadata": {
        "colab": {
          "base_uri": "https://localhost:8080/"
        },
        "id": "bWFwfvOEISB6",
        "outputId": "33d45b16-d1db-434a-b6bc-4582acbcaf8a"
      },
      "execution_count": null,
      "outputs": [
        {
          "output_type": "execute_result",
          "data": {
            "text/plain": [
              "True"
            ]
          },
          "metadata": {},
          "execution_count": 63
        }
      ]
    },
    {
      "cell_type": "markdown",
      "source": [
        "##Linked list"
      ],
      "metadata": {
        "id": "KLhCidENRNku"
      }
    },
    {
      "cell_type": "code",
      "execution_count": null,
      "metadata": {
        "id": "3k3hJ2QgUZ_n"
      },
      "outputs": [],
      "source": [
        "class Link:\n",
        "\n",
        "\n",
        "    def __init__(self, value, next=None):\n",
        "        self.value = value\n",
        "        self.next = next\n",
        "\n",
        "    #def insert(self, link):\n",
        "    #    link.next = self.next\n",
        "    #    self.next = link\n",
        "\n",
        "    def __iter__(self):\n",
        "        return LinkIterator(self)\n",
        "\n",
        "\n",
        "class LinkIterator:\n",
        "    def __init__(self, link):\n",
        "        self.here = link\n",
        "\n",
        "    def __iter__(self):\n",
        "        return self\n",
        "\n",
        "    def __next__(self):\n",
        "        if self.here:\n",
        "            next = self.here\n",
        "            self.here = self.here.next\n",
        "            return next.value\n",
        "        else:\n",
        "            raise StopIteration"
      ]
    },
    {
      "cell_type": "code",
      "source": [
        "linked_list = Link(1, Link(2, Link(3)))"
      ],
      "metadata": {
        "id": "WdkkPQuuVZWb"
      },
      "execution_count": null,
      "outputs": []
    },
    {
      "cell_type": "code",
      "source": [
        "for l in linked_list:\n",
        "    print(l)"
      ],
      "metadata": {
        "colab": {
          "base_uri": "https://localhost:8080/"
        },
        "id": "eM1fngDnVili",
        "outputId": "3b1dd100-f927-4df5-a67b-d887bf1e93a2"
      },
      "execution_count": null,
      "outputs": [
        {
          "output_type": "stream",
          "name": "stdout",
          "text": [
            "1\n",
            "2\n",
            "3\n"
          ]
        }
      ]
    },
    {
      "cell_type": "markdown",
      "source": [
        "##Fibonacci"
      ],
      "metadata": {
        "id": "PXp0ebjY8q97"
      }
    },
    {
      "cell_type": "code",
      "execution_count": null,
      "metadata": {
        "id": "01eVI4vPRLLB"
      },
      "outputs": [],
      "source": [
        "\"\"\"Contains the class Fib for Ex 5 of OOP4Maths.\"\"\"\n",
        "\n",
        "\n",
        "class Fib:\n",
        "    \"\"\"The Fib class represents a fibonacci number.\"\"\"\n",
        "\n",
        "    def __init__(self, next=None):\n",
        "        \"\"\"Fib class constructor method.\"\"\"\n",
        "        self.value1 = 0\n",
        "        self.value2 = 1\n",
        "        self.next = next\n",
        "\n",
        "    def __iter__(self):\n",
        "        return FibIterator(self)\n",
        "\n",
        "    def __next__(self):\n",
        "        return next(FibIterator(self))\n",
        "\n",
        "\n",
        "class FibIterator:\n",
        "    \"\"\"Concrete implementation of the iterator protocol.\"\"\"\n",
        "\n",
        "    def __init__(self, link):\n",
        "        self.here = link\n",
        "\n",
        "    def __iter__(self):\n",
        "        return self\n",
        "\n",
        "    def __next__(self):\n",
        "        if self.here:\n",
        "            next = self.here\n",
        "            # self.here = self.here.next\n",
        "            f_1 = next.value1\n",
        "            f_2 = next.value2\n",
        "            next.value1 = f_2\n",
        "            next.value2 = f_1 + f_2\n",
        "            # print(f_1 + f_2)\n",
        "            return f_1 + f_2\n",
        "        else:\n",
        "            raise StopIteration"
      ]
    },
    {
      "cell_type": "code",
      "source": [
        "count = 0\n",
        "for n in Fib():\n",
        "    print(n)\n",
        "    count += 1\n",
        "    if n >= 89:\n",
        "        break"
      ],
      "metadata": {
        "colab": {
          "base_uri": "https://localhost:8080/"
        },
        "id": "JOB7Icv0T4pp",
        "outputId": "7b2e2b4b-3c65-4870-e25d-b445da3d6e8c"
      },
      "execution_count": null,
      "outputs": [
        {
          "output_type": "stream",
          "name": "stdout",
          "text": [
            "1\n",
            "2\n",
            "3\n",
            "5\n",
            "8\n",
            "13\n",
            "21\n",
            "34\n",
            "55\n",
            "89\n"
          ]
        }
      ]
    },
    {
      "cell_type": "code",
      "source": [
        "import numpy as np"
      ],
      "metadata": {
        "id": "8429MQDeR648"
      },
      "execution_count": null,
      "outputs": []
    },
    {
      "cell_type": "code",
      "source": [
        "def test_fib_values(n, fib_lst):\n",
        "    x = Fib()\n",
        "    test_lst = [next(x) for i in range(n)]\n",
        "    print(f'test_lst: {test_lst}')\n",
        "    return np.array_equal(test_lst, fib_lst)"
      ],
      "metadata": {
        "id": "TfL-WmWsRlo2"
      },
      "execution_count": null,
      "outputs": []
    },
    {
      "cell_type": "code",
      "source": [
        "test_fib_values(5, [1, 2, 3, 5, 8])"
      ],
      "metadata": {
        "colab": {
          "base_uri": "https://localhost:8080/"
        },
        "id": "geC0CkmQR88J",
        "outputId": "fbede9ba-fa37-4bdb-8720-521efa856900"
      },
      "execution_count": null,
      "outputs": [
        {
          "output_type": "stream",
          "name": "stdout",
          "text": [
            "test_lst: [1, 2, 3, 5, 8]\n"
          ]
        },
        {
          "output_type": "execute_result",
          "data": {
            "text/plain": [
              "True"
            ]
          },
          "metadata": {},
          "execution_count": 251
        }
      ]
    },
    {
      "cell_type": "code",
      "source": [
        "test_fib_values(10, [1, 2, 3, 5, 8, 13, 21, 34, 55, 89])"
      ],
      "metadata": {
        "colab": {
          "base_uri": "https://localhost:8080/"
        },
        "id": "NXYFcFvGSJO1",
        "outputId": "d09ce2ed-5a48-4085-cd02-863c3ff5d654"
      },
      "execution_count": null,
      "outputs": [
        {
          "output_type": "stream",
          "name": "stdout",
          "text": [
            "test_lst: [1, 2, 3, 5, 8, 13, 21, 34, 55, 89]\n"
          ]
        },
        {
          "output_type": "execute_result",
          "data": {
            "text/plain": [
              "True"
            ]
          },
          "metadata": {},
          "execution_count": 252
        }
      ]
    },
    {
      "cell_type": "code",
      "source": [
        "test_fib_values(15, [1, 2, 3, 5, 8, 13, 21, 34, 55, 89, 144, 233, 377, 610, 987])"
      ],
      "metadata": {
        "colab": {
          "base_uri": "https://localhost:8080/"
        },
        "id": "jBwpj3meSSCU",
        "outputId": "d706982d-238c-4880-d99f-fc0865b0d9c8"
      },
      "execution_count": null,
      "outputs": [
        {
          "output_type": "stream",
          "name": "stdout",
          "text": [
            "test_lst: [1, 2, 3, 5, 8, 13, 21, 34, 55, 89, 144, 233, 377, 610, 987]\n"
          ]
        },
        {
          "output_type": "execute_result",
          "data": {
            "text/plain": [
              "True"
            ]
          },
          "metadata": {},
          "execution_count": 253
        }
      ]
    },
    {
      "cell_type": "code",
      "source": [],
      "metadata": {
        "id": "SEDgWHzmSOKu"
      },
      "execution_count": null,
      "outputs": []
    },
    {
      "cell_type": "markdown",
      "source": [
        "##Reverse Polish Calculator"
      ],
      "metadata": {
        "id": "F0UUW2zFOMDT"
      }
    },
    {
      "cell_type": "code",
      "source": [
        "\"\"\"Contains the class RPCalc for Ex 5 of OOP4Maths.\"\"\"\n",
        "import numbers\n",
        "\n",
        "\n",
        "class RPCalc:\n",
        "    \"\"\"The RPCalc class represents a Reverse Polish Calculator.\"\"\"\n",
        "\n",
        "    def __init__(self):\n",
        "        \"\"\"Class constructor method.\"\"\"\n",
        "        self.stack = []\n",
        "\n",
        "    def push(self, n):\n",
        "        \"\"\"Return the result of an operation.\"\"\"\n",
        "        if isinstance(n, numbers.Number):\n",
        "            return self.stack.append(n)\n",
        "        elif n in [\"+\", \"-\", \"*\", \"/\", \"sin\", \"cos\"]:\n",
        "            if n in [\"+\", \"-\", \"*\", \"/\"]:\n",
        "                op1_str = str(self.stack.pop())\n",
        "                op2_str = str(self.stack.pop())\n",
        "                op_str = op2_str + n + op1_str\n",
        "                return self.stack.append(eval(op_str))\n",
        "            else:\n",
        "                operand = str(self.stack.pop())\n",
        "                op_str = 'np.' + n + '(' + operand + ')'\n",
        "                return self.stack.append(eval(op_str))\n",
        "        else:\n",
        "            print(\"Can't push\")\n",
        "\n",
        "    def pop(self):\n",
        "        \"\"\"Remove the value from the top of the stack.\"\"\"\n",
        "        return self.stack.pop()\n",
        "\n",
        "    def peek(self):\n",
        "        \"\"\"Return the value at the top of the stack.\"\"\"\n",
        "        return self.stack[-1]\n",
        "\n",
        "    def __len__(self):\n",
        "        \"\"\"Return the length of the stack.\"\"\"\n",
        "        return len(self.stack)"
      ],
      "metadata": {
        "id": "HV0Q1_3OOPLQ"
      },
      "execution_count": null,
      "outputs": []
    },
    {
      "cell_type": "code",
      "source": [
        "import math\n",
        "def test_calculator_arithmetic(expression, answer):\n",
        "    calc = RPCalc()\n",
        "    for element in expression:\n",
        "        calc.push(element)\n",
        "    #print(f'peek: {calc.peek()}')\n",
        "    #print(f'answer: {answer}')\n",
        "    return math.isclose(calc.peek(), answer, rel_tol=1.e-5)"
      ],
      "metadata": {
        "id": "oANs1GWOZufr"
      },
      "execution_count": null,
      "outputs": []
    },
    {
      "cell_type": "code",
      "source": [
        "test_calculator_arithmetic([6, 2, '/', 2, 4, '*', '+'], 11)"
      ],
      "metadata": {
        "colab": {
          "base_uri": "https://localhost:8080/"
        },
        "id": "iBON7wD0Z2q_",
        "outputId": "da063622-cdf7-463b-81a6-c86f14e55909"
      },
      "execution_count": null,
      "outputs": [
        {
          "output_type": "execute_result",
          "data": {
            "text/plain": [
              "True"
            ]
          },
          "metadata": {},
          "execution_count": 118
        }
      ]
    },
    {
      "cell_type": "code",
      "source": [
        "test_calculator_arithmetic([99, 11, \"+\", 8, 7, \"+\", \"+\"], 125)"
      ],
      "metadata": {
        "colab": {
          "base_uri": "https://localhost:8080/"
        },
        "outputId": "f245dbc3-efa5-4bb0-e58d-080b76ebe68f",
        "id": "xhGgSuREbmqN"
      },
      "execution_count": null,
      "outputs": [
        {
          "output_type": "execute_result",
          "data": {
            "text/plain": [
              "True"
            ]
          },
          "metadata": {},
          "execution_count": 119
        }
      ]
    },
    {
      "cell_type": "code",
      "source": [
        "test_calculator_arithmetic([15, 7, 1, 1, \"+\", \"-\", \"/\", 3, \"*\", 2, 1, 1, \"+\", \"+\", \"-\"], 5)"
      ],
      "metadata": {
        "colab": {
          "base_uri": "https://localhost:8080/"
        },
        "outputId": "32839713-5707-4d69-d2b9-976c41ff2cdc",
        "id": "Y9iatjr2bwBG"
      },
      "execution_count": null,
      "outputs": [
        {
          "output_type": "execute_result",
          "data": {
            "text/plain": [
              "True"
            ]
          },
          "metadata": {},
          "execution_count": 120
        }
      ]
    },
    {
      "cell_type": "code",
      "source": [
        "test_calculator_arithmetic([4, 7, \"*\", 5, 2, \"*\", \"*\"], 280)"
      ],
      "metadata": {
        "colab": {
          "base_uri": "https://localhost:8080/"
        },
        "outputId": "17c55130-60e6-467e-cfb1-f1a29aa94be9",
        "id": "QMzL8SROb5HV"
      },
      "execution_count": null,
      "outputs": [
        {
          "output_type": "execute_result",
          "data": {
            "text/plain": [
              "True"
            ]
          },
          "metadata": {},
          "execution_count": 121
        }
      ]
    },
    {
      "cell_type": "code",
      "source": [],
      "metadata": {
        "id": "RQT8YPFzcAno"
      },
      "execution_count": null,
      "outputs": []
    },
    {
      "cell_type": "code",
      "source": [
        "test_calculator_arithmetic([5, 8, 2, 0.2617993877991494, \"*\", \"sin\", \"*\", \"+\", 2,\n",
        "      0.7853981633974483, \"cos\", \"+\", \"/\"], 3.3245825626631635)"
      ],
      "metadata": {
        "colab": {
          "base_uri": "https://localhost:8080/"
        },
        "outputId": "e5040490-f5a4-421f-9e3c-c1faa4dd8184",
        "id": "kJVGzCLkcA7k"
      },
      "execution_count": null,
      "outputs": [
        {
          "output_type": "execute_result",
          "data": {
            "text/plain": [
              "True"
            ]
          },
          "metadata": {},
          "execution_count": 122
        }
      ]
    },
    {
      "cell_type": "code",
      "source": [],
      "metadata": {
        "id": "kcFJkECmblxO"
      },
      "execution_count": null,
      "outputs": []
    },
    {
      "cell_type": "code",
      "source": [
        "def test_peek():\n",
        "    calc = RPCalc()\n",
        "    calc.push(1)\n",
        "    calc.peek()\n",
        "    return bool(calc)\n",
        "\n",
        "test_peek()"
      ],
      "metadata": {
        "colab": {
          "base_uri": "https://localhost:8080/"
        },
        "id": "Mqi7VvruZfyb",
        "outputId": "72693b88-b000-4089-f6ee-a542994a9550"
      },
      "execution_count": null,
      "outputs": [
        {
          "output_type": "execute_result",
          "data": {
            "text/plain": [
              "True"
            ]
          },
          "metadata": {},
          "execution_count": 123
        }
      ]
    },
    {
      "cell_type": "code",
      "source": [
        "def test_length():\n",
        "    calc = RPCalc()\n",
        "    calc.push(1)\n",
        "    calc.push(2)\n",
        "    calc.push(\"+\")\n",
        "    return len(calc) == 1\n",
        "\n",
        "test_length()"
      ],
      "metadata": {
        "colab": {
          "base_uri": "https://localhost:8080/"
        },
        "id": "XbtUioDXYrdG",
        "outputId": "6e0174bd-8185-4fbf-cb12-65b834269eed"
      },
      "execution_count": null,
      "outputs": [
        {
          "output_type": "execute_result",
          "data": {
            "text/plain": [
              "True"
            ]
          },
          "metadata": {},
          "execution_count": 124
        }
      ]
    },
    {
      "cell_type": "code",
      "source": [
        "def test_pop():\n",
        "    calc = RPCalc()\n",
        "    calc.push(1)\n",
        "    calc.pop()\n",
        "    return not bool(calc)\n",
        "\n",
        "test_pop()"
      ],
      "metadata": {
        "colab": {
          "base_uri": "https://localhost:8080/"
        },
        "id": "hJiaxt7oZO5T",
        "outputId": "eaefe0ae-9e4e-4aa6-b869-e8b1e1f903ac"
      },
      "execution_count": null,
      "outputs": [
        {
          "output_type": "execute_result",
          "data": {
            "text/plain": [
              "True"
            ]
          },
          "metadata": {},
          "execution_count": 125
        }
      ]
    },
    {
      "cell_type": "code",
      "source": [
        "def test_push(elements):\n",
        "    calc = RPCalc()\n",
        "    for element in elements:\n",
        "        calc.push(element)"
      ],
      "metadata": {
        "id": "xC9DBNb-Rf9M"
      },
      "execution_count": null,
      "outputs": []
    },
    {
      "cell_type": "code",
      "source": [
        "test_push([1])"
      ],
      "metadata": {
        "id": "9L1mrK63SGMv"
      },
      "execution_count": null,
      "outputs": []
    },
    {
      "cell_type": "code",
      "source": [
        "test_push([43.21])"
      ],
      "metadata": {
        "id": "uhsohYNTSNre"
      },
      "execution_count": null,
      "outputs": []
    },
    {
      "cell_type": "code",
      "source": [
        "test_push([1, 2, \"+\"])"
      ],
      "metadata": {
        "id": "0wxV3RjCSTAg"
      },
      "execution_count": null,
      "outputs": []
    },
    {
      "cell_type": "code",
      "source": [
        "test_push([1, 2, \"-\"])"
      ],
      "metadata": {
        "id": "3FESjc2USX41"
      },
      "execution_count": null,
      "outputs": []
    },
    {
      "cell_type": "code",
      "source": [
        "test_push([1, 2, \"*\"])"
      ],
      "metadata": {
        "id": "J-BQasg8SZyp"
      },
      "execution_count": null,
      "outputs": []
    },
    {
      "cell_type": "code",
      "source": [
        "test_push([1, 2, \"/\"])"
      ],
      "metadata": {
        "id": "iEcAv6fMSbyS"
      },
      "execution_count": null,
      "outputs": []
    },
    {
      "cell_type": "code",
      "source": [
        "test_push([0, \"cos\"])"
      ],
      "metadata": {
        "id": "sX7w0iNASddw"
      },
      "execution_count": null,
      "outputs": []
    },
    {
      "cell_type": "code",
      "source": [
        "test_push([0, \"sin\"])"
      ],
      "metadata": {
        "id": "9JO9umauSidd"
      },
      "execution_count": null,
      "outputs": []
    }
  ]
}